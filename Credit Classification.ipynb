{
 "cells": [
  {
   "cell_type": "markdown",
   "metadata": {},
   "source": [
    "## Credit Classification"
   ]
  },
  {
   "cell_type": "markdown",
   "metadata": {},
   "source": [
    "This dataset classifies people described by a set of attributes as good or bad credit risks.<br>\n",
    "Source : https://www.openml.org/d/31"
   ]
  },
  {
   "cell_type": "code",
   "execution_count": 39,
   "metadata": {},
   "outputs": [],
   "source": [
    "import pandas as pd\n",
    "import numpy as np\n",
    "import seaborn as sns\n",
    "import matplotlib.pyplot as plt\n",
    "%matplotlib inline\n",
    "from sklearn.model_selection import train_test_split\n",
    "from sklearn.preprocessing import StandardScaler\n",
    "from sklearn.linear_model import LogisticRegression\n",
    "from sklearn.neighbors import KNeighborsClassifier\n",
    "from sklearn.naive_bayes import GaussianNB\n",
    "from sklearn.tree import DecisionTreeClassifier"
   ]
  },
  {
   "cell_type": "code",
   "execution_count": 40,
   "metadata": {},
   "outputs": [],
   "source": [
    "data = pd.read_csv('credit.csv')"
   ]
  },
  {
   "cell_type": "code",
   "execution_count": 3,
   "metadata": {
    "scrolled": true
   },
   "outputs": [
    {
     "data": {
      "text/html": [
       "<div>\n",
       "<style scoped>\n",
       "    .dataframe tbody tr th:only-of-type {\n",
       "        vertical-align: middle;\n",
       "    }\n",
       "\n",
       "    .dataframe tbody tr th {\n",
       "        vertical-align: top;\n",
       "    }\n",
       "\n",
       "    .dataframe thead th {\n",
       "        text-align: right;\n",
       "    }\n",
       "</style>\n",
       "<table border=\"1\" class=\"dataframe\">\n",
       "  <thead>\n",
       "    <tr style=\"text-align: right;\">\n",
       "      <th></th>\n",
       "      <th>checking_status</th>\n",
       "      <th>duration</th>\n",
       "      <th>credit_history</th>\n",
       "      <th>purpose</th>\n",
       "      <th>credit_amount</th>\n",
       "      <th>savings_status</th>\n",
       "      <th>employment</th>\n",
       "      <th>installment_commitment</th>\n",
       "      <th>personal_status</th>\n",
       "      <th>other_parties</th>\n",
       "      <th>...</th>\n",
       "      <th>property_magnitude</th>\n",
       "      <th>age</th>\n",
       "      <th>other_payment_plans</th>\n",
       "      <th>housing</th>\n",
       "      <th>existing_credits</th>\n",
       "      <th>job</th>\n",
       "      <th>num_dependents</th>\n",
       "      <th>own_telephone</th>\n",
       "      <th>foreign_worker</th>\n",
       "      <th>class</th>\n",
       "    </tr>\n",
       "  </thead>\n",
       "  <tbody>\n",
       "    <tr>\n",
       "      <td>0</td>\n",
       "      <td>'&lt;0'</td>\n",
       "      <td>6</td>\n",
       "      <td>'critical/other existing credit'</td>\n",
       "      <td>radio/tv</td>\n",
       "      <td>1169</td>\n",
       "      <td>'no known savings'</td>\n",
       "      <td>'&gt;=7'</td>\n",
       "      <td>4</td>\n",
       "      <td>'male single'</td>\n",
       "      <td>none</td>\n",
       "      <td>...</td>\n",
       "      <td>'real estate'</td>\n",
       "      <td>67</td>\n",
       "      <td>none</td>\n",
       "      <td>own</td>\n",
       "      <td>2</td>\n",
       "      <td>skilled</td>\n",
       "      <td>1</td>\n",
       "      <td>yes</td>\n",
       "      <td>yes</td>\n",
       "      <td>good</td>\n",
       "    </tr>\n",
       "    <tr>\n",
       "      <td>1</td>\n",
       "      <td>'0&lt;=X&lt;200'</td>\n",
       "      <td>48</td>\n",
       "      <td>'existing paid'</td>\n",
       "      <td>radio/tv</td>\n",
       "      <td>5951</td>\n",
       "      <td>'&lt;100'</td>\n",
       "      <td>'1&lt;=X&lt;4'</td>\n",
       "      <td>2</td>\n",
       "      <td>'female div/dep/mar'</td>\n",
       "      <td>none</td>\n",
       "      <td>...</td>\n",
       "      <td>'real estate'</td>\n",
       "      <td>22</td>\n",
       "      <td>none</td>\n",
       "      <td>own</td>\n",
       "      <td>1</td>\n",
       "      <td>skilled</td>\n",
       "      <td>1</td>\n",
       "      <td>none</td>\n",
       "      <td>yes</td>\n",
       "      <td>bad</td>\n",
       "    </tr>\n",
       "    <tr>\n",
       "      <td>2</td>\n",
       "      <td>'no checking'</td>\n",
       "      <td>12</td>\n",
       "      <td>'critical/other existing credit'</td>\n",
       "      <td>education</td>\n",
       "      <td>2096</td>\n",
       "      <td>'&lt;100'</td>\n",
       "      <td>'4&lt;=X&lt;7'</td>\n",
       "      <td>2</td>\n",
       "      <td>'male single'</td>\n",
       "      <td>none</td>\n",
       "      <td>...</td>\n",
       "      <td>'real estate'</td>\n",
       "      <td>49</td>\n",
       "      <td>none</td>\n",
       "      <td>own</td>\n",
       "      <td>1</td>\n",
       "      <td>'unskilled resident'</td>\n",
       "      <td>2</td>\n",
       "      <td>none</td>\n",
       "      <td>yes</td>\n",
       "      <td>good</td>\n",
       "    </tr>\n",
       "    <tr>\n",
       "      <td>3</td>\n",
       "      <td>'&lt;0'</td>\n",
       "      <td>42</td>\n",
       "      <td>'existing paid'</td>\n",
       "      <td>furniture/equipment</td>\n",
       "      <td>7882</td>\n",
       "      <td>'&lt;100'</td>\n",
       "      <td>'4&lt;=X&lt;7'</td>\n",
       "      <td>2</td>\n",
       "      <td>'male single'</td>\n",
       "      <td>guarantor</td>\n",
       "      <td>...</td>\n",
       "      <td>'life insurance'</td>\n",
       "      <td>45</td>\n",
       "      <td>none</td>\n",
       "      <td>'for free'</td>\n",
       "      <td>1</td>\n",
       "      <td>skilled</td>\n",
       "      <td>2</td>\n",
       "      <td>none</td>\n",
       "      <td>yes</td>\n",
       "      <td>good</td>\n",
       "    </tr>\n",
       "    <tr>\n",
       "      <td>4</td>\n",
       "      <td>'&lt;0'</td>\n",
       "      <td>24</td>\n",
       "      <td>'delayed previously'</td>\n",
       "      <td>'new car'</td>\n",
       "      <td>4870</td>\n",
       "      <td>'&lt;100'</td>\n",
       "      <td>'1&lt;=X&lt;4'</td>\n",
       "      <td>3</td>\n",
       "      <td>'male single'</td>\n",
       "      <td>none</td>\n",
       "      <td>...</td>\n",
       "      <td>'no known property'</td>\n",
       "      <td>53</td>\n",
       "      <td>none</td>\n",
       "      <td>'for free'</td>\n",
       "      <td>2</td>\n",
       "      <td>skilled</td>\n",
       "      <td>2</td>\n",
       "      <td>none</td>\n",
       "      <td>yes</td>\n",
       "      <td>bad</td>\n",
       "    </tr>\n",
       "  </tbody>\n",
       "</table>\n",
       "<p>5 rows × 21 columns</p>\n",
       "</div>"
      ],
      "text/plain": [
       "  checking_status  duration                    credit_history  \\\n",
       "0            '<0'         6  'critical/other existing credit'   \n",
       "1      '0<=X<200'        48                   'existing paid'   \n",
       "2   'no checking'        12  'critical/other existing credit'   \n",
       "3            '<0'        42                   'existing paid'   \n",
       "4            '<0'        24              'delayed previously'   \n",
       "\n",
       "               purpose  credit_amount      savings_status employment  \\\n",
       "0             radio/tv           1169  'no known savings'      '>=7'   \n",
       "1             radio/tv           5951              '<100'   '1<=X<4'   \n",
       "2            education           2096              '<100'   '4<=X<7'   \n",
       "3  furniture/equipment           7882              '<100'   '4<=X<7'   \n",
       "4            'new car'           4870              '<100'   '1<=X<4'   \n",
       "\n",
       "   installment_commitment       personal_status other_parties  ...  \\\n",
       "0                       4         'male single'          none  ...   \n",
       "1                       2  'female div/dep/mar'          none  ...   \n",
       "2                       2         'male single'          none  ...   \n",
       "3                       2         'male single'     guarantor  ...   \n",
       "4                       3         'male single'          none  ...   \n",
       "\n",
       "    property_magnitude age  other_payment_plans     housing existing_credits  \\\n",
       "0        'real estate'  67                 none         own                2   \n",
       "1        'real estate'  22                 none         own                1   \n",
       "2        'real estate'  49                 none         own                1   \n",
       "3     'life insurance'  45                 none  'for free'                1   \n",
       "4  'no known property'  53                 none  'for free'                2   \n",
       "\n",
       "                    job num_dependents  own_telephone foreign_worker class  \n",
       "0               skilled              1            yes            yes  good  \n",
       "1               skilled              1           none            yes   bad  \n",
       "2  'unskilled resident'              2           none            yes  good  \n",
       "3               skilled              2           none            yes  good  \n",
       "4               skilled              2           none            yes   bad  \n",
       "\n",
       "[5 rows x 21 columns]"
      ]
     },
     "execution_count": 3,
     "metadata": {},
     "output_type": "execute_result"
    }
   ],
   "source": [
    "data.head()"
   ]
  },
  {
   "cell_type": "code",
   "execution_count": 4,
   "metadata": {
    "scrolled": true
   },
   "outputs": [
    {
     "name": "stdout",
     "output_type": "stream",
     "text": [
      "<class 'pandas.core.frame.DataFrame'>\n",
      "RangeIndex: 1000 entries, 0 to 999\n",
      "Data columns (total 21 columns):\n",
      "checking_status           1000 non-null object\n",
      "duration                  1000 non-null int64\n",
      "credit_history            1000 non-null object\n",
      "purpose                   1000 non-null object\n",
      "credit_amount             1000 non-null int64\n",
      "savings_status            1000 non-null object\n",
      "employment                1000 non-null object\n",
      "installment_commitment    1000 non-null int64\n",
      "personal_status           1000 non-null object\n",
      "other_parties             1000 non-null object\n",
      "residence_since           1000 non-null int64\n",
      "property_magnitude        1000 non-null object\n",
      "age                       1000 non-null int64\n",
      "other_payment_plans       1000 non-null object\n",
      "housing                   1000 non-null object\n",
      "existing_credits          1000 non-null int64\n",
      "job                       1000 non-null object\n",
      "num_dependents            1000 non-null int64\n",
      "own_telephone             1000 non-null object\n",
      "foreign_worker            1000 non-null object\n",
      "class                     1000 non-null object\n",
      "dtypes: int64(7), object(14)\n",
      "memory usage: 164.2+ KB\n"
     ]
    }
   ],
   "source": [
    "data.info()"
   ]
  },
  {
   "cell_type": "markdown",
   "metadata": {},
   "source": [
    "Here duration, credit_amount, installment_commitment, residence_since, age, num_dependents are numerical, but other need to type change to category  "
   ]
  },
  {
   "cell_type": "code",
   "execution_count": 5,
   "metadata": {
    "scrolled": true
   },
   "outputs": [
    {
     "data": {
      "text/plain": [
       "Index(['checking_status', 'duration', 'credit_history', 'purpose',\n",
       "       'credit_amount', 'savings_status', 'employment',\n",
       "       'installment_commitment', 'personal_status', 'other_parties',\n",
       "       'residence_since', 'property_magnitude', 'age', 'other_payment_plans',\n",
       "       'housing', 'existing_credits', 'job', 'num_dependents', 'own_telephone',\n",
       "       'foreign_worker', 'class'],\n",
       "      dtype='object')"
      ]
     },
     "execution_count": 5,
     "metadata": {},
     "output_type": "execute_result"
    }
   ],
   "source": [
    "data.columns"
   ]
  },
  {
   "cell_type": "markdown",
   "metadata": {},
   "source": [
    "Here changing duration to months, property_magnitude to property, personal_status to status and class to credit_type"
   ]
  },
  {
   "cell_type": "code",
   "execution_count": 42,
   "metadata": {},
   "outputs": [],
   "source": [
    "data.columns = (['checking_status', 'months', 'credit_history', 'purpose',\n",
    "       'credit_amount', 'savings_status', 'employment',\n",
    "       'installment_commitment', 'status', 'other_parties',\n",
    "       'residence_since', 'property', 'age', 'other_payment_plans',\n",
    "       'housing', 'existing_credits', 'job', 'num_dependents', 'own_telephone',\n",
    "       'foreign_worker', 'credit_type'\n",
    "])"
   ]
  },
  {
   "cell_type": "markdown",
   "metadata": {},
   "source": [
    "Fixing data type and removing quotes "
   ]
  },
  {
   "cell_type": "code",
   "execution_count": 43,
   "metadata": {},
   "outputs": [],
   "source": [
    "data.checking_status = data.checking_status.astype(str)\n",
    "data.checking_status = data.checking_status.replace('\\'', '',regex=True).astype('category')\n",
    "\n",
    "data.credit_history = data.credit_history.astype(str)\n",
    "data.credit_history = data.credit_history.replace('\\'', '',regex=True).astype('category')\n",
    "\n",
    "data.purpose = data.purpose.astype(str)\n",
    "data.purpose = data.purpose.replace('\\'', '',regex=True).astype('category')\n",
    "\n",
    "data.savings_status = data.savings_status.astype(str)\n",
    "data.savings_status = data.savings_status.replace('\\'', '',regex=True).astype('category')\n",
    "\n",
    "data.employment = data.employment.astype(str)\n",
    "data.employment = data.employment.replace('\\'', '',regex=True).astype('category')\n",
    "\n",
    "data.status = data.status.astype(str)\n",
    "data.status = data.status.replace('\\'', '',regex=True).astype('category')\n",
    "\n",
    "data.other_parties = data.other_parties.astype(str)\n",
    "data.other_parties = data.other_parties.replace('\\'', '',regex=True).astype('category')\n",
    "\n",
    "data.property = data.property.astype(str)\n",
    "data.property = data.property.replace('\\'', '',regex=True).astype('category')\n",
    "\n",
    "data.other_payment_plans = data.other_payment_plans.astype(str)\n",
    "data.other_payment_plans = data.other_payment_plans.replace('\\'', '',regex=True).astype('category')\n",
    "\n",
    "data.housing = data.housing.astype(str)\n",
    "data.housing = data.housing.replace('\\'', '',regex=True).astype('category')\n",
    "\n",
    "data.job = data.job.astype(str)\n",
    "data.job = data.job.replace('\\'', '',regex=True).astype('category')\n",
    "\n",
    "data.own_telephone = data.own_telephone.astype(str)\n",
    "data.own_telephone = data.own_telephone.replace('\\'', '',regex=True).astype('category')\n",
    "\n",
    "data.foreign_worker = data.foreign_worker.astype('category')\n",
    "\n",
    "data.credit_type = data.credit_type.astype('category')"
   ]
  },
  {
   "cell_type": "markdown",
   "metadata": {},
   "source": [
    "Data is typecast to prefered type "
   ]
  },
  {
   "cell_type": "code",
   "execution_count": 44,
   "metadata": {},
   "outputs": [
    {
     "data": {
      "text/html": [
       "<div>\n",
       "<style scoped>\n",
       "    .dataframe tbody tr th:only-of-type {\n",
       "        vertical-align: middle;\n",
       "    }\n",
       "\n",
       "    .dataframe tbody tr th {\n",
       "        vertical-align: top;\n",
       "    }\n",
       "\n",
       "    .dataframe thead th {\n",
       "        text-align: right;\n",
       "    }\n",
       "</style>\n",
       "<table border=\"1\" class=\"dataframe\">\n",
       "  <thead>\n",
       "    <tr style=\"text-align: right;\">\n",
       "      <th></th>\n",
       "      <th>checking_status</th>\n",
       "      <th>months</th>\n",
       "      <th>credit_history</th>\n",
       "      <th>purpose</th>\n",
       "      <th>credit_amount</th>\n",
       "      <th>savings_status</th>\n",
       "      <th>employment</th>\n",
       "      <th>installment_commitment</th>\n",
       "      <th>status</th>\n",
       "      <th>other_parties</th>\n",
       "      <th>...</th>\n",
       "      <th>property</th>\n",
       "      <th>age</th>\n",
       "      <th>other_payment_plans</th>\n",
       "      <th>housing</th>\n",
       "      <th>existing_credits</th>\n",
       "      <th>job</th>\n",
       "      <th>num_dependents</th>\n",
       "      <th>own_telephone</th>\n",
       "      <th>foreign_worker</th>\n",
       "      <th>credit_type</th>\n",
       "    </tr>\n",
       "  </thead>\n",
       "  <tbody>\n",
       "    <tr>\n",
       "      <td>0</td>\n",
       "      <td>&lt;0</td>\n",
       "      <td>6</td>\n",
       "      <td>critical/other existing credit</td>\n",
       "      <td>radio/tv</td>\n",
       "      <td>1169</td>\n",
       "      <td>no known savings</td>\n",
       "      <td>&gt;=7</td>\n",
       "      <td>4</td>\n",
       "      <td>male single</td>\n",
       "      <td>none</td>\n",
       "      <td>...</td>\n",
       "      <td>real estate</td>\n",
       "      <td>67</td>\n",
       "      <td>none</td>\n",
       "      <td>own</td>\n",
       "      <td>2</td>\n",
       "      <td>skilled</td>\n",
       "      <td>1</td>\n",
       "      <td>yes</td>\n",
       "      <td>yes</td>\n",
       "      <td>1</td>\n",
       "    </tr>\n",
       "    <tr>\n",
       "      <td>1</td>\n",
       "      <td>0&lt;=X&lt;200</td>\n",
       "      <td>48</td>\n",
       "      <td>existing paid</td>\n",
       "      <td>radio/tv</td>\n",
       "      <td>5951</td>\n",
       "      <td>&lt;100</td>\n",
       "      <td>1&lt;=X&lt;4</td>\n",
       "      <td>2</td>\n",
       "      <td>female div/dep/mar</td>\n",
       "      <td>none</td>\n",
       "      <td>...</td>\n",
       "      <td>real estate</td>\n",
       "      <td>22</td>\n",
       "      <td>none</td>\n",
       "      <td>own</td>\n",
       "      <td>1</td>\n",
       "      <td>skilled</td>\n",
       "      <td>1</td>\n",
       "      <td>none</td>\n",
       "      <td>yes</td>\n",
       "      <td>0</td>\n",
       "    </tr>\n",
       "    <tr>\n",
       "      <td>2</td>\n",
       "      <td>no checking</td>\n",
       "      <td>12</td>\n",
       "      <td>critical/other existing credit</td>\n",
       "      <td>education</td>\n",
       "      <td>2096</td>\n",
       "      <td>&lt;100</td>\n",
       "      <td>4&lt;=X&lt;7</td>\n",
       "      <td>2</td>\n",
       "      <td>male single</td>\n",
       "      <td>none</td>\n",
       "      <td>...</td>\n",
       "      <td>real estate</td>\n",
       "      <td>49</td>\n",
       "      <td>none</td>\n",
       "      <td>own</td>\n",
       "      <td>1</td>\n",
       "      <td>unskilled resident</td>\n",
       "      <td>2</td>\n",
       "      <td>none</td>\n",
       "      <td>yes</td>\n",
       "      <td>1</td>\n",
       "    </tr>\n",
       "  </tbody>\n",
       "</table>\n",
       "<p>3 rows × 21 columns</p>\n",
       "</div>"
      ],
      "text/plain": [
       "  checking_status  months                  credit_history    purpose  \\\n",
       "0              <0       6  critical/other existing credit   radio/tv   \n",
       "1        0<=X<200      48                   existing paid   radio/tv   \n",
       "2     no checking      12  critical/other existing credit  education   \n",
       "\n",
       "   credit_amount    savings_status employment  installment_commitment  \\\n",
       "0           1169  no known savings        >=7                       4   \n",
       "1           5951              <100     1<=X<4                       2   \n",
       "2           2096              <100     4<=X<7                       2   \n",
       "\n",
       "               status other_parties  ...     property age  \\\n",
       "0         male single          none  ...  real estate  67   \n",
       "1  female div/dep/mar          none  ...  real estate  22   \n",
       "2         male single          none  ...  real estate  49   \n",
       "\n",
       "   other_payment_plans housing existing_credits                 job  \\\n",
       "0                 none     own                2             skilled   \n",
       "1                 none     own                1             skilled   \n",
       "2                 none     own                1  unskilled resident   \n",
       "\n",
       "  num_dependents  own_telephone foreign_worker credit_type  \n",
       "0              1            yes            yes           1  \n",
       "1              1           none            yes           0  \n",
       "2              2           none            yes           1  \n",
       "\n",
       "[3 rows x 21 columns]"
      ]
     },
     "execution_count": 44,
     "metadata": {},
     "output_type": "execute_result"
    }
   ],
   "source": [
    "credit_type = {'good':1,'bad':0}\n",
    "data.credit_type = [credit_type[item] for item in data.credit_type] \n",
    "data.head(3)"
   ]
  },
  {
   "cell_type": "code",
   "execution_count": 45,
   "metadata": {},
   "outputs": [
    {
     "name": "stdout",
     "output_type": "stream",
     "text": [
      "<class 'pandas.core.frame.DataFrame'>\n",
      "RangeIndex: 1000 entries, 0 to 999\n",
      "Data columns (total 21 columns):\n",
      "checking_status           1000 non-null category\n",
      "months                    1000 non-null int64\n",
      "credit_history            1000 non-null category\n",
      "purpose                   1000 non-null category\n",
      "credit_amount             1000 non-null int64\n",
      "savings_status            1000 non-null category\n",
      "employment                1000 non-null category\n",
      "installment_commitment    1000 non-null int64\n",
      "status                    1000 non-null category\n",
      "other_parties             1000 non-null category\n",
      "residence_since           1000 non-null int64\n",
      "property                  1000 non-null category\n",
      "age                       1000 non-null int64\n",
      "other_payment_plans       1000 non-null category\n",
      "housing                   1000 non-null category\n",
      "existing_credits          1000 non-null int64\n",
      "job                       1000 non-null category\n",
      "num_dependents            1000 non-null int64\n",
      "own_telephone             1000 non-null category\n",
      "foreign_worker            1000 non-null category\n",
      "credit_type               1000 non-null int64\n",
      "dtypes: category(13), int64(8)\n",
      "memory usage: 77.5 KB\n"
     ]
    }
   ],
   "source": [
    "data.info()"
   ]
  },
  {
   "cell_type": "code",
   "execution_count": 46,
   "metadata": {
    "scrolled": false
   },
   "outputs": [
    {
     "data": {
      "text/plain": [
       "checking_status           0\n",
       "months                    0\n",
       "credit_history            0\n",
       "purpose                   0\n",
       "credit_amount             0\n",
       "savings_status            0\n",
       "employment                0\n",
       "installment_commitment    0\n",
       "status                    0\n",
       "other_parties             0\n",
       "residence_since           0\n",
       "property                  0\n",
       "age                       0\n",
       "other_payment_plans       0\n",
       "housing                   0\n",
       "existing_credits          0\n",
       "job                       0\n",
       "num_dependents            0\n",
       "own_telephone             0\n",
       "foreign_worker            0\n",
       "credit_type               0\n",
       "dtype: int64"
      ]
     },
     "execution_count": 46,
     "metadata": {},
     "output_type": "execute_result"
    }
   ],
   "source": [
    "data.isnull().sum()"
   ]
  },
  {
   "cell_type": "markdown",
   "metadata": {},
   "source": [
    "Their is no missing value"
   ]
  },
  {
   "cell_type": "markdown",
   "metadata": {},
   "source": [
    "We look some basic static of data"
   ]
  },
  {
   "cell_type": "code",
   "execution_count": 47,
   "metadata": {
    "scrolled": true
   },
   "outputs": [
    {
     "data": {
      "text/html": [
       "<div>\n",
       "<style scoped>\n",
       "    .dataframe tbody tr th:only-of-type {\n",
       "        vertical-align: middle;\n",
       "    }\n",
       "\n",
       "    .dataframe tbody tr th {\n",
       "        vertical-align: top;\n",
       "    }\n",
       "\n",
       "    .dataframe thead th {\n",
       "        text-align: right;\n",
       "    }\n",
       "</style>\n",
       "<table border=\"1\" class=\"dataframe\">\n",
       "  <thead>\n",
       "    <tr style=\"text-align: right;\">\n",
       "      <th></th>\n",
       "      <th>months</th>\n",
       "      <th>credit_amount</th>\n",
       "      <th>installment_commitment</th>\n",
       "      <th>residence_since</th>\n",
       "      <th>age</th>\n",
       "      <th>existing_credits</th>\n",
       "      <th>num_dependents</th>\n",
       "      <th>credit_type</th>\n",
       "    </tr>\n",
       "  </thead>\n",
       "  <tbody>\n",
       "    <tr>\n",
       "      <td>count</td>\n",
       "      <td>1000.000000</td>\n",
       "      <td>1000.000000</td>\n",
       "      <td>1000.000000</td>\n",
       "      <td>1000.000000</td>\n",
       "      <td>1000.000000</td>\n",
       "      <td>1000.000000</td>\n",
       "      <td>1000.000000</td>\n",
       "      <td>1000.000000</td>\n",
       "    </tr>\n",
       "    <tr>\n",
       "      <td>mean</td>\n",
       "      <td>20.903000</td>\n",
       "      <td>3271.258000</td>\n",
       "      <td>2.973000</td>\n",
       "      <td>2.845000</td>\n",
       "      <td>35.546000</td>\n",
       "      <td>1.407000</td>\n",
       "      <td>1.155000</td>\n",
       "      <td>0.700000</td>\n",
       "    </tr>\n",
       "    <tr>\n",
       "      <td>std</td>\n",
       "      <td>12.058814</td>\n",
       "      <td>2822.736876</td>\n",
       "      <td>1.118715</td>\n",
       "      <td>1.103718</td>\n",
       "      <td>11.375469</td>\n",
       "      <td>0.577654</td>\n",
       "      <td>0.362086</td>\n",
       "      <td>0.458487</td>\n",
       "    </tr>\n",
       "    <tr>\n",
       "      <td>min</td>\n",
       "      <td>4.000000</td>\n",
       "      <td>250.000000</td>\n",
       "      <td>1.000000</td>\n",
       "      <td>1.000000</td>\n",
       "      <td>19.000000</td>\n",
       "      <td>1.000000</td>\n",
       "      <td>1.000000</td>\n",
       "      <td>0.000000</td>\n",
       "    </tr>\n",
       "    <tr>\n",
       "      <td>25%</td>\n",
       "      <td>12.000000</td>\n",
       "      <td>1365.500000</td>\n",
       "      <td>2.000000</td>\n",
       "      <td>2.000000</td>\n",
       "      <td>27.000000</td>\n",
       "      <td>1.000000</td>\n",
       "      <td>1.000000</td>\n",
       "      <td>0.000000</td>\n",
       "    </tr>\n",
       "    <tr>\n",
       "      <td>50%</td>\n",
       "      <td>18.000000</td>\n",
       "      <td>2319.500000</td>\n",
       "      <td>3.000000</td>\n",
       "      <td>3.000000</td>\n",
       "      <td>33.000000</td>\n",
       "      <td>1.000000</td>\n",
       "      <td>1.000000</td>\n",
       "      <td>1.000000</td>\n",
       "    </tr>\n",
       "    <tr>\n",
       "      <td>75%</td>\n",
       "      <td>24.000000</td>\n",
       "      <td>3972.250000</td>\n",
       "      <td>4.000000</td>\n",
       "      <td>4.000000</td>\n",
       "      <td>42.000000</td>\n",
       "      <td>2.000000</td>\n",
       "      <td>1.000000</td>\n",
       "      <td>1.000000</td>\n",
       "    </tr>\n",
       "    <tr>\n",
       "      <td>max</td>\n",
       "      <td>72.000000</td>\n",
       "      <td>18424.000000</td>\n",
       "      <td>4.000000</td>\n",
       "      <td>4.000000</td>\n",
       "      <td>75.000000</td>\n",
       "      <td>4.000000</td>\n",
       "      <td>2.000000</td>\n",
       "      <td>1.000000</td>\n",
       "    </tr>\n",
       "  </tbody>\n",
       "</table>\n",
       "</div>"
      ],
      "text/plain": [
       "            months  credit_amount  installment_commitment  residence_since  \\\n",
       "count  1000.000000    1000.000000             1000.000000      1000.000000   \n",
       "mean     20.903000    3271.258000                2.973000         2.845000   \n",
       "std      12.058814    2822.736876                1.118715         1.103718   \n",
       "min       4.000000     250.000000                1.000000         1.000000   \n",
       "25%      12.000000    1365.500000                2.000000         2.000000   \n",
       "50%      18.000000    2319.500000                3.000000         3.000000   \n",
       "75%      24.000000    3972.250000                4.000000         4.000000   \n",
       "max      72.000000   18424.000000                4.000000         4.000000   \n",
       "\n",
       "               age  existing_credits  num_dependents  credit_type  \n",
       "count  1000.000000       1000.000000     1000.000000  1000.000000  \n",
       "mean     35.546000          1.407000        1.155000     0.700000  \n",
       "std      11.375469          0.577654        0.362086     0.458487  \n",
       "min      19.000000          1.000000        1.000000     0.000000  \n",
       "25%      27.000000          1.000000        1.000000     0.000000  \n",
       "50%      33.000000          1.000000        1.000000     1.000000  \n",
       "75%      42.000000          2.000000        1.000000     1.000000  \n",
       "max      75.000000          4.000000        2.000000     1.000000  "
      ]
     },
     "execution_count": 47,
     "metadata": {},
     "output_type": "execute_result"
    }
   ],
   "source": [
    "data.describe()"
   ]
  },
  {
   "cell_type": "code",
   "execution_count": 48,
   "metadata": {},
   "outputs": [
    {
     "data": {
      "text/html": [
       "<div>\n",
       "<style scoped>\n",
       "    .dataframe tbody tr th:only-of-type {\n",
       "        vertical-align: middle;\n",
       "    }\n",
       "\n",
       "    .dataframe tbody tr th {\n",
       "        vertical-align: top;\n",
       "    }\n",
       "\n",
       "    .dataframe thead th {\n",
       "        text-align: right;\n",
       "    }\n",
       "</style>\n",
       "<table border=\"1\" class=\"dataframe\">\n",
       "  <thead>\n",
       "    <tr style=\"text-align: right;\">\n",
       "      <th></th>\n",
       "      <th>checking_status</th>\n",
       "      <th>credit_history</th>\n",
       "      <th>purpose</th>\n",
       "      <th>savings_status</th>\n",
       "      <th>employment</th>\n",
       "      <th>status</th>\n",
       "      <th>other_parties</th>\n",
       "      <th>property</th>\n",
       "      <th>other_payment_plans</th>\n",
       "      <th>housing</th>\n",
       "      <th>job</th>\n",
       "      <th>own_telephone</th>\n",
       "      <th>foreign_worker</th>\n",
       "    </tr>\n",
       "  </thead>\n",
       "  <tbody>\n",
       "    <tr>\n",
       "      <td>count</td>\n",
       "      <td>1000</td>\n",
       "      <td>1000</td>\n",
       "      <td>1000</td>\n",
       "      <td>1000</td>\n",
       "      <td>1000</td>\n",
       "      <td>1000</td>\n",
       "      <td>1000</td>\n",
       "      <td>1000</td>\n",
       "      <td>1000</td>\n",
       "      <td>1000</td>\n",
       "      <td>1000</td>\n",
       "      <td>1000</td>\n",
       "      <td>1000</td>\n",
       "    </tr>\n",
       "    <tr>\n",
       "      <td>unique</td>\n",
       "      <td>4</td>\n",
       "      <td>5</td>\n",
       "      <td>10</td>\n",
       "      <td>5</td>\n",
       "      <td>5</td>\n",
       "      <td>4</td>\n",
       "      <td>3</td>\n",
       "      <td>4</td>\n",
       "      <td>3</td>\n",
       "      <td>3</td>\n",
       "      <td>4</td>\n",
       "      <td>2</td>\n",
       "      <td>2</td>\n",
       "    </tr>\n",
       "    <tr>\n",
       "      <td>top</td>\n",
       "      <td>no checking</td>\n",
       "      <td>existing paid</td>\n",
       "      <td>radio/tv</td>\n",
       "      <td>&lt;100</td>\n",
       "      <td>1&lt;=X&lt;4</td>\n",
       "      <td>male single</td>\n",
       "      <td>none</td>\n",
       "      <td>car</td>\n",
       "      <td>none</td>\n",
       "      <td>own</td>\n",
       "      <td>skilled</td>\n",
       "      <td>none</td>\n",
       "      <td>yes</td>\n",
       "    </tr>\n",
       "    <tr>\n",
       "      <td>freq</td>\n",
       "      <td>394</td>\n",
       "      <td>530</td>\n",
       "      <td>280</td>\n",
       "      <td>603</td>\n",
       "      <td>339</td>\n",
       "      <td>548</td>\n",
       "      <td>907</td>\n",
       "      <td>332</td>\n",
       "      <td>814</td>\n",
       "      <td>713</td>\n",
       "      <td>630</td>\n",
       "      <td>596</td>\n",
       "      <td>963</td>\n",
       "    </tr>\n",
       "  </tbody>\n",
       "</table>\n",
       "</div>"
      ],
      "text/plain": [
       "       checking_status credit_history   purpose savings_status employment  \\\n",
       "count             1000           1000      1000           1000       1000   \n",
       "unique               4              5        10              5          5   \n",
       "top        no checking  existing paid  radio/tv           <100     1<=X<4   \n",
       "freq               394            530       280            603        339   \n",
       "\n",
       "             status other_parties property other_payment_plans housing  \\\n",
       "count          1000          1000     1000                1000    1000   \n",
       "unique            4             3        4                   3       3   \n",
       "top     male single          none      car                none     own   \n",
       "freq            548           907      332                 814     713   \n",
       "\n",
       "            job own_telephone foreign_worker  \n",
       "count      1000          1000           1000  \n",
       "unique        4             2              2  \n",
       "top     skilled          none            yes  \n",
       "freq        630           596            963  "
      ]
     },
     "execution_count": 48,
     "metadata": {},
     "output_type": "execute_result"
    }
   ],
   "source": [
    "data.describe(include=['category'])"
   ]
  },
  {
   "cell_type": "code",
   "execution_count": 50,
   "metadata": {},
   "outputs": [
    {
     "data": {
      "image/png": "[encoded data removed]",
      "text/plain": [
       "<Figure size 720x576 with 2 Axes>"
      ]
     },
     "metadata": {
      "needs_background": "light"
     },
     "output_type": "display_data"
    }
   ],
   "source": [
    "fig, ax = plt.subplots(figsize=(10,8)) \n",
    "sns.heatmap(data.corr(), annot=True, ax=ax, cmap='BrBG').set(\n",
    "    title = 'Feature Correlation', xlabel = 'Columns', ylabel = 'Columns')\n",
    "plt.show()"
   ]
  },
  {
   "cell_type": "markdown",
   "metadata": {},
   "source": [
    "Some insights from the above correlation heatmap: \n",
    "\n",
    "1. expected stronge correlation between months and credit_amount\n",
    "2. expected stronge correlation between installment_commitment and credit_amount"
   ]
  },
  {
   "cell_type": "markdown",
   "metadata": {},
   "source": [
    "chaning credit_type to good to 1 and bad to 0"
   ]
  },
  {
   "cell_type": "code",
   "execution_count": 15,
   "metadata": {},
   "outputs": [
    {
     "data": {
      "text/html": [
       "<div>\n",
       "<style scoped>\n",
       "    .dataframe tbody tr th:only-of-type {\n",
       "        vertical-align: middle;\n",
       "    }\n",
       "\n",
       "    .dataframe tbody tr th {\n",
       "        vertical-align: top;\n",
       "    }\n",
       "\n",
       "    .dataframe thead th {\n",
       "        text-align: right;\n",
       "    }\n",
       "</style>\n",
       "<table border=\"1\" class=\"dataframe\">\n",
       "  <thead>\n",
       "    <tr style=\"text-align: right;\">\n",
       "      <th>checking_status</th>\n",
       "      <th>0&lt;=X&lt;200</th>\n",
       "      <th>&lt;0</th>\n",
       "      <th>&gt;=200</th>\n",
       "      <th>no checking</th>\n",
       "    </tr>\n",
       "    <tr>\n",
       "      <th>credit_type</th>\n",
       "      <th></th>\n",
       "      <th></th>\n",
       "      <th></th>\n",
       "      <th></th>\n",
       "    </tr>\n",
       "  </thead>\n",
       "  <tbody>\n",
       "    <tr>\n",
       "      <td>0</td>\n",
       "      <td>105</td>\n",
       "      <td>135</td>\n",
       "      <td>14</td>\n",
       "      <td>46</td>\n",
       "    </tr>\n",
       "    <tr>\n",
       "      <td>1</td>\n",
       "      <td>164</td>\n",
       "      <td>139</td>\n",
       "      <td>49</td>\n",
       "      <td>348</td>\n",
       "    </tr>\n",
       "  </tbody>\n",
       "</table>\n",
       "</div>"
      ],
      "text/plain": [
       "checking_status  0<=X<200   <0  >=200  no checking\n",
       "credit_type                                       \n",
       "0                     105  135     14           46\n",
       "1                     164  139     49          348"
      ]
     },
     "execution_count": 15,
     "metadata": {},
     "output_type": "execute_result"
    }
   ],
   "source": [
    "pd.crosstab(data.credit_type, data.checking_status)"
   ]
  },
  {
   "cell_type": "markdown",
   "metadata": {},
   "source": [
    "Here, no checking has most of good credit type"
   ]
  },
  {
   "cell_type": "code",
   "execution_count": 16,
   "metadata": {},
   "outputs": [
    {
     "data": {
      "text/html": [
       "<div>\n",
       "<style scoped>\n",
       "    .dataframe tbody tr th:only-of-type {\n",
       "        vertical-align: middle;\n",
       "    }\n",
       "\n",
       "    .dataframe tbody tr th {\n",
       "        vertical-align: top;\n",
       "    }\n",
       "\n",
       "    .dataframe thead th {\n",
       "        text-align: right;\n",
       "    }\n",
       "</style>\n",
       "<table border=\"1\" class=\"dataframe\">\n",
       "  <thead>\n",
       "    <tr style=\"text-align: right;\">\n",
       "      <th>status</th>\n",
       "      <th>female div/dep/mar</th>\n",
       "      <th>male div/sep</th>\n",
       "      <th>male mar/wid</th>\n",
       "      <th>male single</th>\n",
       "    </tr>\n",
       "    <tr>\n",
       "      <th>credit_type</th>\n",
       "      <th></th>\n",
       "      <th></th>\n",
       "      <th></th>\n",
       "      <th></th>\n",
       "    </tr>\n",
       "  </thead>\n",
       "  <tbody>\n",
       "    <tr>\n",
       "      <td>0</td>\n",
       "      <td>109</td>\n",
       "      <td>20</td>\n",
       "      <td>25</td>\n",
       "      <td>146</td>\n",
       "    </tr>\n",
       "    <tr>\n",
       "      <td>1</td>\n",
       "      <td>201</td>\n",
       "      <td>30</td>\n",
       "      <td>67</td>\n",
       "      <td>402</td>\n",
       "    </tr>\n",
       "  </tbody>\n",
       "</table>\n",
       "</div>"
      ],
      "text/plain": [
       "status       female div/dep/mar  male div/sep  male mar/wid  male single\n",
       "credit_type                                                             \n",
       "0                           109            20            25          146\n",
       "1                           201            30            67          402"
      ]
     },
     "execution_count": 16,
     "metadata": {},
     "output_type": "execute_result"
    }
   ],
   "source": [
    "pd.crosstab(data.credit_type, data.status)"
   ]
  },
  {
   "cell_type": "markdown",
   "metadata": {},
   "source": [
    "Here, single male has more good credits"
   ]
  },
  {
   "cell_type": "code",
   "execution_count": 17,
   "metadata": {
    "scrolled": true
   },
   "outputs": [
    {
     "data": {
      "text/plain": [
       "radio/tv               280\n",
       "new car                234\n",
       "furniture/equipment    181\n",
       "used car               103\n",
       "business                97\n",
       "education               50\n",
       "repairs                 22\n",
       "other                   12\n",
       "domestic appliance      12\n",
       "retraining               9\n",
       "Name: purpose, dtype: int64"
      ]
     },
     "execution_count": 17,
     "metadata": {},
     "output_type": "execute_result"
    }
   ],
   "source": [
    "data['purpose'].value_counts()"
   ]
  },
  {
   "cell_type": "code",
   "execution_count": 18,
   "metadata": {
    "scrolled": true
   },
   "outputs": [
    {
     "data": {
      "text/html": [
       "<div>\n",
       "<style scoped>\n",
       "    .dataframe tbody tr th:only-of-type {\n",
       "        vertical-align: middle;\n",
       "    }\n",
       "\n",
       "    .dataframe tbody tr th {\n",
       "        vertical-align: top;\n",
       "    }\n",
       "\n",
       "    .dataframe thead th {\n",
       "        text-align: right;\n",
       "    }\n",
       "</style>\n",
       "<table border=\"1\" class=\"dataframe\">\n",
       "  <thead>\n",
       "    <tr style=\"text-align: right;\">\n",
       "      <th>purpose</th>\n",
       "      <th>business</th>\n",
       "      <th>domestic appliance</th>\n",
       "      <th>education</th>\n",
       "      <th>furniture/equipment</th>\n",
       "      <th>new car</th>\n",
       "      <th>other</th>\n",
       "      <th>radio/tv</th>\n",
       "      <th>repairs</th>\n",
       "      <th>retraining</th>\n",
       "      <th>used car</th>\n",
       "    </tr>\n",
       "    <tr>\n",
       "      <th>credit_type</th>\n",
       "      <th></th>\n",
       "      <th></th>\n",
       "      <th></th>\n",
       "      <th></th>\n",
       "      <th></th>\n",
       "      <th></th>\n",
       "      <th></th>\n",
       "      <th></th>\n",
       "      <th></th>\n",
       "      <th></th>\n",
       "    </tr>\n",
       "  </thead>\n",
       "  <tbody>\n",
       "    <tr>\n",
       "      <td>0</td>\n",
       "      <td>34</td>\n",
       "      <td>4</td>\n",
       "      <td>22</td>\n",
       "      <td>58</td>\n",
       "      <td>89</td>\n",
       "      <td>5</td>\n",
       "      <td>62</td>\n",
       "      <td>8</td>\n",
       "      <td>1</td>\n",
       "      <td>17</td>\n",
       "    </tr>\n",
       "    <tr>\n",
       "      <td>1</td>\n",
       "      <td>63</td>\n",
       "      <td>8</td>\n",
       "      <td>28</td>\n",
       "      <td>123</td>\n",
       "      <td>145</td>\n",
       "      <td>7</td>\n",
       "      <td>218</td>\n",
       "      <td>14</td>\n",
       "      <td>8</td>\n",
       "      <td>86</td>\n",
       "    </tr>\n",
       "  </tbody>\n",
       "</table>\n",
       "</div>"
      ],
      "text/plain": [
       "purpose      business  domestic appliance  education  furniture/equipment  \\\n",
       "credit_type                                                                 \n",
       "0                  34                   4         22                   58   \n",
       "1                  63                   8         28                  123   \n",
       "\n",
       "purpose      new car  other  radio/tv  repairs  retraining  used car  \n",
       "credit_type                                                           \n",
       "0                 89      5        62        8           1        17  \n",
       "1                145      7       218       14           8        86  "
      ]
     },
     "execution_count": 18,
     "metadata": {},
     "output_type": "execute_result"
    }
   ],
   "source": [
    "pd.crosstab(data.credit_type, data.purpose)"
   ]
  },
  {
   "cell_type": "markdown",
   "metadata": {},
   "source": [
    "Here, lot of people use credit for radio/TV and for car"
   ]
  },
  {
   "cell_type": "code",
   "execution_count": 19,
   "metadata": {},
   "outputs": [
    {
     "data": {
      "text/html": [
       "<div>\n",
       "<style scoped>\n",
       "    .dataframe tbody tr th:only-of-type {\n",
       "        vertical-align: middle;\n",
       "    }\n",
       "\n",
       "    .dataframe tbody tr th {\n",
       "        vertical-align: top;\n",
       "    }\n",
       "\n",
       "    .dataframe thead th {\n",
       "        text-align: right;\n",
       "    }\n",
       "</style>\n",
       "<table border=\"1\" class=\"dataframe\">\n",
       "  <thead>\n",
       "    <tr style=\"text-align: right;\">\n",
       "      <th>savings_status</th>\n",
       "      <th>100&lt;=X&lt;500</th>\n",
       "      <th>500&lt;=X&lt;1000</th>\n",
       "      <th>&lt;100</th>\n",
       "      <th>&gt;=1000</th>\n",
       "      <th>no known savings</th>\n",
       "    </tr>\n",
       "    <tr>\n",
       "      <th>credit_type</th>\n",
       "      <th></th>\n",
       "      <th></th>\n",
       "      <th></th>\n",
       "      <th></th>\n",
       "      <th></th>\n",
       "    </tr>\n",
       "  </thead>\n",
       "  <tbody>\n",
       "    <tr>\n",
       "      <td>0</td>\n",
       "      <td>34</td>\n",
       "      <td>11</td>\n",
       "      <td>217</td>\n",
       "      <td>6</td>\n",
       "      <td>32</td>\n",
       "    </tr>\n",
       "    <tr>\n",
       "      <td>1</td>\n",
       "      <td>69</td>\n",
       "      <td>52</td>\n",
       "      <td>386</td>\n",
       "      <td>42</td>\n",
       "      <td>151</td>\n",
       "    </tr>\n",
       "  </tbody>\n",
       "</table>\n",
       "</div>"
      ],
      "text/plain": [
       "savings_status  100<=X<500  500<=X<1000  <100  >=1000  no known savings\n",
       "credit_type                                                            \n",
       "0                       34           11   217       6                32\n",
       "1                       69           52   386      42               151"
      ]
     },
     "execution_count": 19,
     "metadata": {},
     "output_type": "execute_result"
    }
   ],
   "source": [
    "pd.crosstab(data.credit_type, data.savings_status)"
   ]
  },
  {
   "cell_type": "code",
   "execution_count": 20,
   "metadata": {
    "scrolled": true
   },
   "outputs": [
    {
     "data": {
      "text/plain": [
       "[Text(0.5, 1.0, 'Months vs Credit amount')]"
      ]
     },
     "execution_count": 20,
     "metadata": {},
     "output_type": "execute_result"
    },
    {
     "data": {
      "image/png": "[encoded data removed]",
      "text/plain": [
       "<Figure size 576x576 with 1 Axes>"
      ]
     },
     "metadata": {
      "needs_background": "light"
     },
     "output_type": "display_data"
    }
   ],
   "source": [
    "fig, ax = plt.subplots(figsize=(8,8)) \n",
    "sns.lineplot(x='months', y='credit_amount', hue='credit_type', data=data).set(title = 'Months vs Credit amount')"
   ]
  },
  {
   "cell_type": "markdown",
   "metadata": {},
   "source": [
    " As months are increase more bad credit  "
   ]
  },
  {
   "cell_type": "code",
   "execution_count": 21,
   "metadata": {},
   "outputs": [
    {
     "data": {
      "text/plain": [
       "[Text(0.5, 1.0, '')]"
      ]
     },
     "execution_count": 21,
     "metadata": {},
     "output_type": "execute_result"
    },
    {
     "data": {
      "image/png": "[encoded data removed]",
      "text/plain": [
       "<Figure size 576x576 with 1 Axes>"
      ]
     },
     "metadata": {
      "needs_background": "light"
     },
     "output_type": "display_data"
    }
   ],
   "source": [
    "fig, ax = plt.subplots(figsize=(8,8)) \n",
    "sns.lineplot(x='existing_credits', y='credit_amount', hue='credit_type', data=data).set(title = '')"
   ]
  },
  {
   "cell_type": "markdown",
   "metadata": {},
   "source": [
    "As more credit amount more bad credit "
   ]
  },
  {
   "cell_type": "markdown",
   "metadata": {},
   "source": [
    "# Data pre-conditioning"
   ]
  },
  {
   "cell_type": "markdown",
   "metadata": {},
   "source": [
    "In this section we will make our data ready for model training. This will include: \n",
    "1. Transform column into numerical values.\n",
    "2. Split data set into training and testing parts (80/20).\n",
    "3. Droping 'other_parties' and  'residence_since'."
   ]
  },
  {
   "cell_type": "code",
   "execution_count": 22,
   "metadata": {},
   "outputs": [
    {
     "name": "stdout",
     "output_type": "stream",
     "text": [
      "<class 'pandas.core.frame.DataFrame'>\n",
      "RangeIndex: 1000 entries, 0 to 999\n",
      "Data columns (total 21 columns):\n",
      "checking_status           1000 non-null category\n",
      "months                    1000 non-null int64\n",
      "credit_history            1000 non-null category\n",
      "purpose                   1000 non-null category\n",
      "credit_amount             1000 non-null int64\n",
      "savings_status            1000 non-null category\n",
      "employment                1000 non-null category\n",
      "installment_commitment    1000 non-null int64\n",
      "status                    1000 non-null category\n",
      "other_parties             1000 non-null category\n",
      "residence_since           1000 non-null int64\n",
      "property                  1000 non-null category\n",
      "age                       1000 non-null int64\n",
      "other_payment_plans       1000 non-null category\n",
      "housing                   1000 non-null category\n",
      "existing_credits          1000 non-null int64\n",
      "job                       1000 non-null category\n",
      "num_dependents            1000 non-null int64\n",
      "own_telephone             1000 non-null category\n",
      "foreign_worker            1000 non-null category\n",
      "credit_type               1000 non-null int64\n",
      "dtypes: category(13), int64(8)\n",
      "memory usage: 77.5 KB\n"
     ]
    }
   ],
   "source": [
    "data.info()"
   ]
  },
  {
   "cell_type": "code",
   "execution_count": 23,
   "metadata": {},
   "outputs": [],
   "source": [
    "data_final = data.drop(['other_parties','residence_since'], axis=1)"
   ]
  },
  {
   "cell_type": "code",
   "execution_count": 24,
   "metadata": {},
   "outputs": [],
   "source": [
    "credit_type = {1:'good',0:'bad'}\n",
    "data.credit_type = [credit_type[item] for item in data.credit_type] "
   ]
  },
  {
   "cell_type": "code",
   "execution_count": 25,
   "metadata": {},
   "outputs": [],
   "source": [
    "data_final = pd.get_dummies(data)"
   ]
  },
  {
   "cell_type": "code",
   "execution_count": 26,
   "metadata": {},
   "outputs": [
    {
     "name": "stdout",
     "output_type": "stream",
     "text": [
      "<class 'pandas.core.frame.DataFrame'>\n",
      "RangeIndex: 1000 entries, 0 to 999\n",
      "Data columns (total 63 columns):\n",
      "months                                           1000 non-null int64\n",
      "credit_amount                                    1000 non-null int64\n",
      "installment_commitment                           1000 non-null int64\n",
      "residence_since                                  1000 non-null int64\n",
      "age                                              1000 non-null int64\n",
      "existing_credits                                 1000 non-null int64\n",
      "num_dependents                                   1000 non-null int64\n",
      "checking_status_0<=X<200                         1000 non-null uint8\n",
      "checking_status_<0                               1000 non-null uint8\n",
      "checking_status_>=200                            1000 non-null uint8\n",
      "checking_status_no checking                      1000 non-null uint8\n",
      "credit_history_all paid                          1000 non-null uint8\n",
      "credit_history_critical/other existing credit    1000 non-null uint8\n",
      "credit_history_delayed previously                1000 non-null uint8\n",
      "credit_history_existing paid                     1000 non-null uint8\n",
      "credit_history_no credits/all paid               1000 non-null uint8\n",
      "purpose_business                                 1000 non-null uint8\n",
      "purpose_domestic appliance                       1000 non-null uint8\n",
      "purpose_education                                1000 non-null uint8\n",
      "purpose_furniture/equipment                      1000 non-null uint8\n",
      "purpose_new car                                  1000 non-null uint8\n",
      "purpose_other                                    1000 non-null uint8\n",
      "purpose_radio/tv                                 1000 non-null uint8\n",
      "purpose_repairs                                  1000 non-null uint8\n",
      "purpose_retraining                               1000 non-null uint8\n",
      "purpose_used car                                 1000 non-null uint8\n",
      "savings_status_100<=X<500                        1000 non-null uint8\n",
      "savings_status_500<=X<1000                       1000 non-null uint8\n",
      "savings_status_<100                              1000 non-null uint8\n",
      "savings_status_>=1000                            1000 non-null uint8\n",
      "savings_status_no known savings                  1000 non-null uint8\n",
      "employment_1<=X<4                                1000 non-null uint8\n",
      "employment_4<=X<7                                1000 non-null uint8\n",
      "employment_<1                                    1000 non-null uint8\n",
      "employment_>=7                                   1000 non-null uint8\n",
      "employment_unemployed                            1000 non-null uint8\n",
      "status_female div/dep/mar                        1000 non-null uint8\n",
      "status_male div/sep                              1000 non-null uint8\n",
      "status_male mar/wid                              1000 non-null uint8\n",
      "status_male single                               1000 non-null uint8\n",
      "other_parties_co applicant                       1000 non-null uint8\n",
      "other_parties_guarantor                          1000 non-null uint8\n",
      "other_parties_none                               1000 non-null uint8\n",
      "property_car                                     1000 non-null uint8\n",
      "property_life insurance                          1000 non-null uint8\n",
      "property_no known property                       1000 non-null uint8\n",
      "property_real estate                             1000 non-null uint8\n",
      "other_payment_plans_bank                         1000 non-null uint8\n",
      "other_payment_plans_none                         1000 non-null uint8\n",
      "other_payment_plans_stores                       1000 non-null uint8\n",
      "housing_for free                                 1000 non-null uint8\n",
      "housing_own                                      1000 non-null uint8\n",
      "housing_rent                                     1000 non-null uint8\n",
      "job_high qualif/self emp/mgmt                    1000 non-null uint8\n",
      "job_skilled                                      1000 non-null uint8\n",
      "job_unemp/unskilled non res                      1000 non-null uint8\n",
      "job_unskilled resident                           1000 non-null uint8\n",
      "own_telephone_none                               1000 non-null uint8\n",
      "own_telephone_yes                                1000 non-null uint8\n",
      "foreign_worker_no                                1000 non-null uint8\n",
      "foreign_worker_yes                               1000 non-null uint8\n",
      "credit_type_bad                                  1000 non-null uint8\n",
      "credit_type_good                                 1000 non-null uint8\n",
      "dtypes: int64(7), uint8(56)\n",
      "memory usage: 109.5 KB\n"
     ]
    }
   ],
   "source": [
    "data_final.info()"
   ]
  },
  {
   "cell_type": "markdown",
   "metadata": {},
   "source": [
    "##### Data Split 1: all of our final dataset, no scaling"
   ]
  },
  {
   "cell_type": "code",
   "execution_count": 38,
   "metadata": {
    "scrolled": true
   },
   "outputs": [],
   "source": [
    "X = data_final.drop(['credit_type_bad','credit_type_good'], axis=1)\n",
    "Y = data_final[['credit_type_bad','credit_type_good']]\n",
    "X_train, X_test, Y_train, Y_test = train_test_split(X, Y, test_size=0.2, random_state=101)"
   ]
  },
  {
   "cell_type": "markdown",
   "metadata": {},
   "source": [
    "##### Data Split 2: all of our final dataset, with scaling"
   ]
  },
  {
   "cell_type": "code",
   "execution_count": 52,
   "metadata": {},
   "outputs": [],
   "source": [
    "sc_X = StandardScaler()\n",
    "\n",
    "X2_train = sc_X.fit_transform(X_train)\n",
    "X2_test = sc_X.fit_transform(X_test)\n",
    "Y2_train = Y_train\n",
    "Y2_test = Y_test"
   ]
  },
  {
   "cell_type": "markdown",
   "metadata": {},
   "source": [
    "##### Data Split 3: feature selected dataset, no scaling\n",
    "\n",
    "We will select only a portion of our features, the ones with coreelation score larger than -/+ 0.3 with credit_type.  "
   ]
  },
  {
   "cell_type": "code",
   "execution_count": 55,
   "metadata": {},
   "outputs": [],
   "source": [
    "X3 = data_final[['months','credit_amount']]\n",
    "Y3 = Y\n",
    "\n",
    "X3_train, X3_test, Y3_train, Y3_test = train_test_split(X3, Y3, test_size=0.2, random_state=101)"
   ]
  },
  {
   "cell_type": "code",
   "execution_count": null,
   "metadata": {},
   "outputs": [],
   "source": []
  }
 ],
 "metadata": {
  "kernelspec": {
   "display_name": "Python 3",
   "language": "python",
   "name": "python3"
  },
  "language_info": {
   "codemirror_mode": {
    "name": "ipython",
    "version": 3
   },
   "file_extension": ".py",
   "mimetype": "text/x-python",
   "name": "python",
   "nbconvert_exporter": "python",
   "pygments_lexer": "ipython3",
   "version": "3.7.4"
  }
 },
 "nbformat": 4,
 "nbformat_minor": 2
}
